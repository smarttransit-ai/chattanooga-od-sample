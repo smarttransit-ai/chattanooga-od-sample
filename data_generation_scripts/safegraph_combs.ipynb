{
 "cells": [
  {
   "cell_type": "code",
   "execution_count": 1,
   "metadata": {},
   "outputs": [],
   "source": [
    "import pandas as pd\n",
    "import geopandas as gpd\n",
    "import numpy as np"
   ]
  },
  {
   "cell_type": "code",
   "execution_count": 2,
   "metadata": {},
   "outputs": [],
   "source": [
    "from shapely.geometry import Point\n",
    "def intpt_func(row):\n",
    "    return Point(row['INTPTLON'], row['INTPTLAT'])"
   ]
  },
  {
   "cell_type": "code",
   "execution_count": 3,
   "metadata": {},
   "outputs": [
    {
     "name": "stderr",
     "output_type": "stream",
     "text": [
      "c:\\Users\\senr1\\AppData\\Local\\Programs\\Python\\Python37\\lib\\site-packages\\pandas\\core\\dtypes\\cast.py:118: ShapelyDeprecationWarning: The array interface is deprecated and will no longer work in Shapely 2.0. Convert the '.coords' to a numpy array instead.\n",
      "  arr = construct_1d_object_array_from_listlike(values)\n"
     ]
    }
   ],
   "source": [
    "#loading geometry data\n",
    "ham_cbg = pd.read_csv('../data/ham_cbg.csv')\n",
    "ham_cbg['intpt'] = ham_cbg[['INTPTLAT', 'INTPTLON']].apply(lambda p: intpt_func(p), axis=1)\n",
    "ham_cbg = gpd.GeoDataFrame(ham_cbg, geometry=gpd.GeoSeries.from_wkt(ham_cbg.geometry))\n",
    "ham_cbg.GEOID = ham_cbg.GEOID.astype(str)"
   ]
  },
  {
   "cell_type": "code",
   "execution_count": 4,
   "metadata": {},
   "outputs": [],
   "source": [
    "#loading residential buildings\n",
    "res_build = pd.read_csv('../data/ham_residential_buildings2.csv', index_col=0)\n",
    "res_build = gpd.GeoDataFrame(res_build, geometry=gpd.GeoSeries.from_wkt(res_build.geometry))\n",
    "res_build['location'] = res_build.geometry.apply(lambda p: [p.y, p.x])\n",
    "\n",
    "#loading work buildings\n",
    "com_build = pd.read_csv('../data/work_loc_poi_com_civ.csv', index_col=0)\n",
    "com_build = gpd.GeoDataFrame(com_build, geometry=gpd.GeoSeries.from_wkt(com_build.geometry))\n",
    "com_build['location'] = com_build.geometry.apply(lambda p: [p.y, p.x])\n",
    "com_build = com_build.reset_index()\n",
    "com_build.GEOID = com_build.GEOID.astype(str)\n",
    "\n",
    "#loading all buildings (MS dataset)\n",
    "ms_build = pd.read_csv('../data/ham_buildings_MS.csv')\n",
    "ms_build = gpd.GeoDataFrame(ms_build, geometry=gpd.GeoSeries.from_wkt(ms_build.geo_centers))\n",
    "ms_build.GEOID = ms_build.GEOID.astype(str)\n",
    "ms_build['location'] = ms_build.geometry.apply(lambda p: [p.y, p.x])"
   ]
  },
  {
   "cell_type": "code",
   "execution_count": 5,
   "metadata": {},
   "outputs": [],
   "source": [
    "def datetime_range(start, end, delta):\n",
    "    current = start\n",
    "    while current < end:\n",
    "        yield current\n",
    "        current += delta"
   ]
  },
  {
   "cell_type": "code",
   "execution_count": 25,
   "metadata": {},
   "outputs": [],
   "source": [
    "#generating array of start and return times (in 15 min intervals)\n",
    "from datetime  import datetime, timedelta\n",
    "times_morning = [datetime.strptime(dt.strftime('%H:%M'), '%H:%M') for dt in \n",
    "       datetime_range(datetime(2016, 9, 1, 7), datetime(2016, 9, 1, 9, 10), \n",
    "       timedelta(minutes=15))]\n",
    "times_evening = [datetime.strptime(dt.strftime('%H:%M'), '%H:%M') for dt in \n",
    "       datetime_range(datetime(2016, 9, 1, 16), datetime(2016, 9, 1, 18, 10), \n",
    "       timedelta(minutes=15))]"
   ]
  },
  {
   "cell_type": "code",
   "execution_count": 7,
   "metadata": {},
   "outputs": [],
   "source": [
    "res_build.GEOID = res_build.GEOID.astype(str)\n",
    "com_build.GEOID = com_build.GEOID.astype(str)"
   ]
  },
  {
   "cell_type": "code",
   "execution_count": 8,
   "metadata": {},
   "outputs": [],
   "source": [
    "#input safegraph preprocessed data\n",
    "sg = gpd.read_file('path to safegraph data') # file not added due to privacy concerns"
   ]
  },
  {
   "cell_type": "code",
   "execution_count": 14,
   "metadata": {},
   "outputs": [],
   "source": [
    "#grouping home and work location movements to get total no of movements\n",
    "sg = sg.groupby(['home_cbg', 'poi_cbg']).agg(frequency=('frequency', sum), visits_monday=('visits_monday', sum), visits_tuesday=('visits_tuesday', sum), visits_wednesday=('visits_wednesday', sum), visits_thursday=('visits_thursday', sum), visits_friday=('visits_friday', sum), visits_saturday=('visits_saturday', sum), visits_sunday=('visits_sunday', sum) ).reset_index()"
   ]
  },
  {
   "cell_type": "code",
   "execution_count": 30,
   "metadata": {},
   "outputs": [
    {
     "data": {
      "application/vnd.jupyter.widget-view+json": {
       "model_id": "757c248e1bd54c508d885b811994d273",
       "version_major": 2,
       "version_minor": 0
      },
      "text/plain": [
       "  0%|          | 0/16561 [00:00<?, ?it/s]"
      ]
     },
     "metadata": {},
     "output_type": "display_data"
    }
   ],
   "source": [
    "import random\n",
    "import tqdm\n",
    "from tqdm.notebook import tqdm_notebook\n",
    "\n",
    "#setting the random seed\n",
    "np.random.seed(42)\n",
    "random.seed(42)\n",
    "\n",
    "\n",
    "prob_matrix_sg = gpd.GeoDataFrame()\n",
    "for idx, movement in tqdm_notebook(sg.iterrows(), total=sg.shape[0]):\n",
    "\n",
    "    res = res_build[res_build.GEOID == movement.home_cbg].reset_index(drop=True)\n",
    "    if res.empty:\n",
    "        res = ms_build[ms_build.GEOID == movement.home_cbg].sample(n=movement.frequency, random_state=42, replace=True).reset_index(drop=True)\n",
    "\n",
    "    com = com_build[com_build.GEOID == movement.poi_cbg].reset_index(drop=True)\n",
    "    if com.empty:\n",
    "        com = ms_build[ms_build.GEOID == movement.poi_cbg].sample(n=movement.frequency, random_state=42, replace=True).reset_index(drop=True)\n",
    "        \n",
    "    r = res\n",
    "    c = com\n",
    "\n",
    "    for freq in range(int(movement.frequency/7)):\n",
    "\n",
    "        if c.empty:\n",
    "            c = com\n",
    "        if r.empty:\n",
    "            r = res\n",
    "        \n",
    "        rand_r = random.randrange(r.shape[0])\n",
    "        rand_c = random.randrange(c.shape[0])\n",
    "        r_df = r.iloc[rand_r]\n",
    "        c_df = c.iloc[rand_c]\n",
    "        r = r.drop([rand_r]).reset_index(drop=True)\n",
    "        c = c.drop([rand_c]).reset_index(drop=True)\n",
    "\n",
    "        time_slot1 = np.random.choice(times_morning, size=1, replace=True)\n",
    "        time_slot2 = np.random.choice(times_evening, size=1, replace=True)\n",
    "\n",
    "        temp = gpd.GeoDataFrame()\n",
    "\n",
    "        temp.loc[freq, 'home_cbg'] = movement.home_cbg\n",
    "        temp.loc[freq, 'poi_cbg'] = movement.poi_cbg\n",
    "        temp.loc[freq, 'frequency'] = movement.frequency\n",
    "        temp.loc[freq, 'home_loc_lat'] = r_df.location[0]\n",
    "        temp.loc[freq, 'home_loc_lon'] = r_df.location[1]\n",
    "        temp.loc[freq, 'work_loc_lat'] = c_df.location[0]\n",
    "        temp.loc[freq, 'work_loc_lon'] = c_df.location[1]\n",
    "        temp.loc[freq, 'go_time'] = time_slot1[0]\n",
    "        temp.loc[freq, 'go_time_str'] = time_slot1[0].strftime('%H:%M')\n",
    "        temp.loc[freq, 'return_time'] = time_slot2[0]\n",
    "        temp.loc[freq, 'return_time_str'] = time_slot2[0].strftime('%H:%M')\n",
    "\n",
    "        # temp.loc[job, 'home_geom'] = Point([r_df.location[1], r_df.location[0]])\n",
    "        prob_matrix_sg = prob_matrix_sg.append(temp, ignore_index=True)"
   ]
  },
  {
   "cell_type": "code",
   "execution_count": 31,
   "metadata": {},
   "outputs": [],
   "source": [
    "def func_home_pt(row):\n",
    "    return Point(row.home_loc_lon, row.home_loc_lat)\n",
    "def func_work_pt(row):\n",
    "    return Point(row.work_loc_lon, row.work_loc_lat)"
   ]
  },
  {
   "cell_type": "code",
   "execution_count": 32,
   "metadata": {},
   "outputs": [
    {
     "name": "stderr",
     "output_type": "stream",
     "text": [
      "c:\\Users\\senr1\\AppData\\Local\\Programs\\Python\\Python37\\lib\\site-packages\\pandas\\core\\dtypes\\cast.py:118: ShapelyDeprecationWarning: The array interface is deprecated and will no longer work in Shapely 2.0. Convert the '.coords' to a numpy array instead.\n",
      "  arr = construct_1d_object_array_from_listlike(values)\n",
      "c:\\Users\\senr1\\AppData\\Local\\Programs\\Python\\Python37\\lib\\site-packages\\pandas\\core\\dtypes\\cast.py:118: ShapelyDeprecationWarning: The array interface is deprecated and will no longer work in Shapely 2.0. Convert the '.coords' to a numpy array instead.\n",
      "  arr = construct_1d_object_array_from_listlike(values)\n"
     ]
    }
   ],
   "source": [
    "# convert the lat and lon points to shapely Points\n",
    "prob_matrix_sg['home_geom'] = prob_matrix_sg[['home_loc_lat', 'home_loc_lon']].apply(lambda row: func_home_pt(row), axis=1)\n",
    "prob_matrix_sg['work_geom'] = prob_matrix_sg[['work_loc_lat', 'work_loc_lon']].apply(lambda row: func_work_pt(row), axis=1)"
   ]
  },
  {
   "cell_type": "code",
   "execution_count": 34,
   "metadata": {},
   "outputs": [],
   "source": [
    "# prob_matrix_sg.to_csv('sg_combinations.csv', index=False)\n",
    "prob_matrix_sg.to_parquet('sg_combinations.parquet', index=False)"
   ]
  }
 ],
 "metadata": {
  "kernelspec": {
   "display_name": "Python 3.7.9 64-bit",
   "language": "python",
   "name": "python3"
  },
  "language_info": {
   "codemirror_mode": {
    "name": "ipython",
    "version": 3
   },
   "file_extension": ".py",
   "mimetype": "text/x-python",
   "name": "python",
   "nbconvert_exporter": "python",
   "pygments_lexer": "ipython3",
   "version": "3.7.9"
  },
  "orig_nbformat": 4,
  "vscode": {
   "interpreter": {
    "hash": "c4d0005f5e14f7c00ac58c488a6489dbdddabe86817daaefe3a462e64eae13df"
   }
  }
 },
 "nbformat": 4,
 "nbformat_minor": 2
}

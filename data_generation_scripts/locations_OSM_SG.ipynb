{
 "cells": [
  {
   "cell_type": "code",
   "execution_count": 1,
   "metadata": {},
   "outputs": [],
   "source": [
    "import osmnx as ox\n",
    "import matplotlib.pyplot as plt\n",
    "from shapely.geometry import Polygon, Point\n",
    "import geopandas as gpd\n",
    "import pandas as pd"
   ]
  },
  {
   "cell_type": "code",
   "execution_count": 2,
   "metadata": {},
   "outputs": [],
   "source": [
    "# input Hamilton county geo file\n",
    "ham_cbg = gpd.read_file('../data/Tennessee Census Block Groups/tl_2020_47_bg.shp')\n",
    "ham_cbg = ham_cbg[ham_cbg.COUNTYFP=='065']\n",
    "ham_cbg = ham_cbg.to_crs('epsg:4326')"
   ]
  },
  {
   "cell_type": "code",
   "execution_count": 14,
   "metadata": {},
   "outputs": [],
   "source": [
    "#finding all buildings\n",
    "tags = {'building': True}\n",
    "buildings = ox.geometries_from_bbox(34.854382885097905, 35.935532323321, -84.19759521484375, -85.553161621093756, tags)"
   ]
  },
  {
   "cell_type": "code",
   "execution_count": 17,
   "metadata": {},
   "outputs": [],
   "source": [
    "#aggregating all residential tags\n",
    "pd.set_option('display.max_columns', None)\n",
    "res_build = buildings[(buildings.building == 'residential') | (buildings.building == 'bungalow') | (buildings.building == 'cabin') | (buildings.building == 'dormitory') | (buildings.building == 'hotel') | (buildings.building == 'house') | (buildings.building == 'semidetached_house') | (buildings.building == 'barracks') | (buildings.building == 'farm') | (buildings.building == 'ger') | (buildings.building == 'houseboat') | (buildings.building == 'static_caravan') | (buildings.building == 'terrace')].reset_index()[['osmid', 'geometry', 'nodes', 'building', 'name', 'source']].sjoin(ham_cbg)\n",
    "res_build.geometry = res_build.geometry.apply(lambda x: x.centroid if x.geom_type =='Polygon' else x)"
   ]
  },
  {
   "cell_type": "code",
   "execution_count": 7,
   "metadata": {},
   "outputs": [],
   "source": [
    "#saving residential buildings\n",
    "res_build.to_csv('ham_residential_buildings.csv', index=False)"
   ]
  },
  {
   "cell_type": "code",
   "execution_count": 87,
   "metadata": {},
   "outputs": [
    {
     "name": "stderr",
     "output_type": "stream",
     "text": [
      "c:\\Users\\senr1\\AppData\\Local\\Programs\\Python\\Python37\\lib\\site-packages\\geopandas\\geodataframe.py:1351: SettingWithCopyWarning: \n",
      "A value is trying to be set on a copy of a slice from a DataFrame.\n",
      "Try using .loc[row_indexer,col_indexer] = value instead\n",
      "\n",
      "See the caveats in the documentation: https://pandas.pydata.org/pandas-docs/stable/user_guide/indexing.html#returning-a-view-versus-a-copy\n",
      "  super().__setitem__(key, value)\n"
     ]
    }
   ],
   "source": [
    "pd.set_option('display.max_columns', None)\n",
    "\n",
    "#work tags\n",
    "\n",
    "com_build = buildings[(buildings.building == 'commercial') | (buildings.building == 'industrial') | (buildings.building == 'kiosk') | (buildings.building == 'office') | (buildings.building == 'retail') | (buildings.building == 'supermarket') | (buildings.building == 'warehouse')].reset_index()[['osmid', 'geometry', 'nodes', 'building', 'name', 'source']].sjoin(ham_cbg)\n",
    "civ_build = buildings[(buildings.building == 'bakehouse') | (buildings.building == 'civic') | (buildings.building == 'college') | (buildings.building == 'fire_station') | (buildings.building == 'government') | (buildings.building == 'hospital') | (buildings.building == 'kindergarten') | (buildings.building == 'public') | (buildings.building == 'school') | (buildings.building == 'train_station') | (buildings.building == 'transportation') | (buildings.building == 'university')].reset_index()[['osmid', 'geometry', 'nodes', 'building', 'name', 'source']].sjoin(ham_cbg)\n",
    "\n",
    "com_build.geometry = com_build.geometry.apply(lambda x: x.centroid if x.geom_type =='Polygon' else x)\n",
    "civ_build.geometry = civ_build.geometry.apply(lambda x: x.centroid if x.geom_type =='Polygon' else x)"
   ]
  },
  {
   "cell_type": "code",
   "execution_count": 60,
   "metadata": {},
   "outputs": [],
   "source": [
    "def func(row):\n",
    "    str(Point(gpd.points_from_xy(row.INTPTLAT, row.INTPTLON)[0]))"
   ]
  },
  {
   "cell_type": "code",
   "execution_count": 66,
   "metadata": {},
   "outputs": [],
   "source": [
    "#converting the default internal point of each cbg to a shapely Point\n",
    "res_build['intpt'] = res_build[['INTPTLAT', 'INTPTLON']].apply(lambda x: func, axis=1)"
   ]
  },
  {
   "cell_type": "markdown",
   "metadata": {},
   "source": [
    "## adding safegraph poi locations"
   ]
  },
  {
   "cell_type": "code",
   "execution_count": 39,
   "metadata": {},
   "outputs": [],
   "source": [
    "# add safegraph extracted data\n",
    "sg = gpd.read_file('path to safegraph file') # path removed due to privacy concerns\n",
    "sg.longitude = sg.longitude.astype(float)\n",
    "sg.latitude = sg.latitude.astype(float)\n",
    "geom = [Point(xy) for xy in zip(sg.longitude, sg.latitude)]\n",
    "sg = gpd.GeoDataFrame(sg, geometry = geom, crs='epsg:4326')"
   ]
  },
  {
   "cell_type": "code",
   "execution_count": 123,
   "metadata": {},
   "outputs": [],
   "source": [
    "#adding in safegraph POI locations to OSM work locations\n",
    "\n",
    "t1 = (sg[['poi_cbg', 'geometry']].rename({'poi_cbg':'GEOID'},axis=1).append(com_build[['GEOID', 'geometry']]).append(civ_build[['GEOID', 'geometry']]))\n",
    "t1.GEOID = t1.GEOID.astype(str).apply(lambda x: x.split('.')[0])\n",
    "\n",
    "# saving work buildings to file\n",
    "t1.to_csv('work_loc_poi_com_civ.csv', index=False)"
   ]
  }
 ],
 "metadata": {
  "kernelspec": {
   "display_name": "Python 3.7.9 64-bit",
   "language": "python",
   "name": "python3"
  },
  "language_info": {
   "codemirror_mode": {
    "name": "ipython",
    "version": 3
   },
   "file_extension": ".py",
   "mimetype": "text/x-python",
   "name": "python",
   "nbconvert_exporter": "python",
   "pygments_lexer": "ipython3",
   "version": "3.7.9"
  },
  "orig_nbformat": 4,
  "vscode": {
   "interpreter": {
    "hash": "c4d0005f5e14f7c00ac58c488a6489dbdddabe86817daaefe3a462e64eae13df"
   }
  }
 },
 "nbformat": 4,
 "nbformat_minor": 2
}

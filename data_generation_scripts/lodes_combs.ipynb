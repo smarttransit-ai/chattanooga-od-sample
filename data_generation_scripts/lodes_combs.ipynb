{
 "cells": [
  {
   "cell_type": "code",
   "execution_count": 1,
   "metadata": {},
   "outputs": [],
   "source": [
    "import pandas as pd\n",
    "import geopandas as gpd\n",
    "import numpy as np"
   ]
  },
  {
   "cell_type": "code",
   "execution_count": 3,
   "metadata": {},
   "outputs": [],
   "source": [
    "from shapely.geometry import Point\n",
    "def intpt_func(row):\n",
    "    return Point(row['INTPTLON'], row['INTPTLAT'])"
   ]
  },
  {
   "cell_type": "code",
   "execution_count": 4,
   "metadata": {},
   "outputs": [
    {
     "name": "stderr",
     "output_type": "stream",
     "text": [
      "c:\\Users\\senr1\\AppData\\Local\\Programs\\Python\\Python37\\lib\\site-packages\\pandas\\core\\dtypes\\cast.py:118: ShapelyDeprecationWarning: The array interface is deprecated and will no longer work in Shapely 2.0. Convert the '.coords' to a numpy array instead.\n",
      "  arr = construct_1d_object_array_from_listlike(values)\n"
     ]
    }
   ],
   "source": [
    "#loading LODES data\n",
    "\n",
    "ham_lodes = pd.read_csv('../data/hamilton_lodes_2019.csv', dtype={\"TRACTCE20_home\":\"string\", \"TRACTCE20_work\":\"string\"})\n",
    "ham_lodes.h_geocode = ham_lodes.h_geocode.apply(lambda x: int(x/1000))\n",
    "ham_lodes.w_geocode = ham_lodes.w_geocode.apply(lambda x: int(x/1000))\n",
    "ham_lodes.w_geocode = ham_lodes.w_geocode.astype(str)\n",
    "ham_lodes.h_geocode = ham_lodes.h_geocode.astype(str)\n",
    "\n",
    "#loading Hamilton county geodata\n",
    "ham_cbg = pd.read_csv('../data/ham_cbg.csv')\n",
    "ham_cbg['intpt'] = ham_cbg[['INTPTLAT', 'INTPTLON']].apply(lambda p: intpt_func(p), axis=1)\n",
    "ham_cbg = gpd.GeoDataFrame(ham_cbg, geometry=gpd.GeoSeries.from_wkt(ham_cbg.geometry))\n",
    "ham_cbg.GEOID = ham_cbg.GEOID.astype(str)"
   ]
  },
  {
   "cell_type": "code",
   "execution_count": 5,
   "metadata": {},
   "outputs": [],
   "source": [
    "#loading residential buildings\n",
    "res_build = pd.read_csv('../data/ham_residential_buildings2.csv', index_col=0)\n",
    "res_build = gpd.GeoDataFrame(res_build, geometry=gpd.GeoSeries.from_wkt(res_build.geometry))\n",
    "res_build['location'] = res_build.geometry.apply(lambda p: [p.y, p.x])\n",
    "\n",
    "#loading work buildings\n",
    "com_build = pd.read_csv('../data/work_loc_poi_com_civ.csv', index_col=0)\n",
    "com_build = gpd.GeoDataFrame(com_build, geometry=gpd.GeoSeries.from_wkt(com_build.geometry))\n",
    "com_build['location'] = com_build.geometry.apply(lambda p: [p.y, p.x])\n",
    "com_build = com_build.reset_index()\n",
    "com_build.GEOID = com_build.GEOID.astype(str)\n",
    "\n",
    "#loading all buildings (MS dataset)\n",
    "ms_build = pd.read_csv('../data/ham_buildings_MS.csv')\n",
    "ms_build = gpd.GeoDataFrame(ms_build, geometry=gpd.GeoSeries.from_wkt(ms_build.geo_centers))\n",
    "ms_build.GEOID = ms_build.GEOID.astype(str)\n",
    "ms_build['location'] = ms_build.geometry.apply(lambda p: [p.y, p.x])"
   ]
  },
  {
   "cell_type": "code",
   "execution_count": 6,
   "metadata": {},
   "outputs": [],
   "source": [
    "#aggregating total jobs for each combination of home and work cbg \n",
    "ham_lodes = ham_lodes.groupby(['h_geocode', 'w_geocode']).agg(total_jobs=('total_jobs', sum)).reset_index().merge(ham_cbg[['GEOID', 'geometry']], left_on='h_geocode', right_on='GEOID').rename({'geometry':'home_geom'}, axis=1).drop('GEOID', axis=1).merge(ham_cbg[['GEOID', 'geometry']], left_on='w_geocode', right_on='GEOID').rename({'geometry':'work_geom'}, axis=1).drop('GEOID', axis=1).sort_values('total_jobs', ascending=False).reset_index(drop=True)\n",
    "ham_lodes = gpd.GeoDataFrame(ham_lodes)"
   ]
  },
  {
   "cell_type": "code",
   "execution_count": 9,
   "metadata": {},
   "outputs": [],
   "source": [
    "def datetime_range(start, end, delta):\n",
    "    current = start\n",
    "    while current < end:\n",
    "        yield current\n",
    "        current += delta"
   ]
  },
  {
   "cell_type": "code",
   "execution_count": 98,
   "metadata": {},
   "outputs": [],
   "source": [
    "#generating array of start and return times (in 15 min intervals)\n",
    "from datetime  import datetime, timedelta\n",
    "times_morning = [datetime.strptime(dt.strftime('%H:%M'), '%H:%M') for dt in \n",
    "       datetime_range(datetime(2016, 9, 1, 7), datetime(2016, 9, 1, 9, 10), \n",
    "       timedelta(minutes=15))]\n",
    "times_evening = [datetime.strptime(dt.strftime('%H:%M'), '%H:%M') for dt in \n",
    "       datetime_range(datetime(2016, 9, 1, 16), datetime(2016, 9, 1, 18, 10), \n",
    "       timedelta(minutes=15))]"
   ]
  },
  {
   "cell_type": "code",
   "execution_count": 11,
   "metadata": {},
   "outputs": [],
   "source": [
    "res_build.GEOID = res_build.GEOID.astype(str)\n",
    "com_build.GEOID = com_build.GEOID.astype(str)"
   ]
  },
  {
   "cell_type": "code",
   "execution_count": 109,
   "metadata": {},
   "outputs": [
    {
     "data": {
      "application/vnd.jupyter.widget-view+json": {
       "model_id": "50583c4960224e5d878463ede80e7508",
       "version_major": 2,
       "version_minor": 0
      },
      "text/plain": [
       "  0%|          | 0/14282 [00:00<?, ?it/s]"
      ]
     },
     "metadata": {},
     "output_type": "display_data"
    }
   ],
   "source": [
    "import random\n",
    "import tqdm\n",
    "from tqdm.notebook import tqdm_notebook\n",
    "\n",
    "#setting the random seed\n",
    "np.random.seed(42)\n",
    "random.seed(42)\n",
    "\n",
    "prob_matrix = gpd.GeoDataFrame()\n",
    "for idx, movement in tqdm_notebook(ham_lodes.iterrows(), total=ham_lodes.shape[0]):\n",
    "\n",
    "    res = res_build[res_build.GEOID == movement.h_geocode].reset_index(drop=True)\n",
    "    if res.empty:\n",
    "        res = ms_build[ms_build.GEOID == movement.h_geocode].sample(n=movement.total_jobs, random_state=42).reset_index(drop=True)\n",
    "\n",
    "    com = com_build[com_build.GEOID == movement.w_geocode].reset_index(drop=True)\n",
    "    if com.empty:\n",
    "        com = ms_build[ms_build.GEOID == movement.w_geocode].sample(n=movement.total_jobs, random_state=42).reset_index(drop=True)\n",
    "        \n",
    "    r = res\n",
    "    c = com\n",
    "   \n",
    "    for job in range(movement.total_jobs):\n",
    "     \n",
    "        if c.empty:\n",
    "            c = com\n",
    "        if r.empty:\n",
    "            r = res\n",
    "\n",
    "        rand_r = random.randrange(0, r.shape[0])\n",
    "        rand_c = random.randrange(0, c.shape[0])\n",
    "        r_df = r.iloc[rand_r]\n",
    "        c_df = c.iloc[rand_c]\n",
    "        r = r.drop([rand_r]).reset_index(drop=True)\n",
    "        c = c.drop([rand_c]).reset_index(drop=True)\n",
    "        \n",
    "        time_slot1 = np.random.choice(times_morning, size=1, replace=True)\n",
    "        time_slot2 = np.random.choice(times_evening, size=1, replace=True)\n",
    "\n",
    "        temp = gpd.GeoDataFrame()\n",
    "\n",
    "        temp.loc[job, 'h_geocode'] = movement.h_geocode\n",
    "        temp.loc[job, 'w_geocode'] = movement.w_geocode\n",
    "        temp.loc[job, 'total_jobs'] = movement.total_jobs\n",
    "        temp.loc[job, 'home_loc_lat'] = r_df.location[0]\n",
    "        temp.loc[job, 'home_loc_lon'] = r_df.location[1]\n",
    "        temp.loc[job, 'work_loc_lat'] = c_df.location[0]\n",
    "        temp.loc[job, 'work_loc_lon'] = c_df.location[1]\n",
    "        temp.loc[job, 'go_time'] = time_slot1[0]\n",
    "        temp.loc[job, 'go_time_str'] = time_slot1[0].strftime('%H:%M')\n",
    "        temp.loc[job, 'return_time'] = time_slot2[0]\n",
    "        temp.loc[job, 'return_time_str'] = time_slot2[0].strftime('%H:%M')\n",
    "\n",
    "        prob_matrix = prob_matrix.append(temp, ignore_index=True)"
   ]
  },
  {
   "cell_type": "code",
   "execution_count": 110,
   "metadata": {},
   "outputs": [],
   "source": [
    "def func_home_pt(row):\n",
    "    return Point(row.home_loc_lon, row.home_loc_lat)\n",
    "def func_work_pt(row):\n",
    "    return Point(row.work_loc_lon, row.work_loc_lat)"
   ]
  },
  {
   "cell_type": "code",
   "execution_count": 111,
   "metadata": {},
   "outputs": [
    {
     "name": "stderr",
     "output_type": "stream",
     "text": [
      "c:\\Users\\senr1\\AppData\\Local\\Programs\\Python\\Python37\\lib\\site-packages\\pandas\\core\\dtypes\\cast.py:118: ShapelyDeprecationWarning: The array interface is deprecated and will no longer work in Shapely 2.0. Convert the '.coords' to a numpy array instead.\n",
      "  arr = construct_1d_object_array_from_listlike(values)\n",
      "c:\\Users\\senr1\\AppData\\Local\\Programs\\Python\\Python37\\lib\\site-packages\\pandas\\core\\dtypes\\cast.py:118: ShapelyDeprecationWarning: The array interface is deprecated and will no longer work in Shapely 2.0. Convert the '.coords' to a numpy array instead.\n",
      "  arr = construct_1d_object_array_from_listlike(values)\n"
     ]
    }
   ],
   "source": [
    "# convert the lat and lon points to shapely Points\n",
    "prob_matrix['home_geom'] = prob_matrix[['home_loc_lat', 'home_loc_lon']].apply(lambda row: func_home_pt(row), axis=1)\n",
    "prob_matrix['work_geom'] = prob_matrix[['work_loc_lat', 'work_loc_lon']].apply(lambda row: func_work_pt(row), axis=1)\n",
    "prob_matrix.h_geocode = prob_matrix.h_geocode.astype(str)\n",
    "prob_matrix.w_geocode = prob_matrix.w_geocode.astype(str)"
   ]
  },
  {
   "cell_type": "code",
   "execution_count": 115,
   "metadata": {},
   "outputs": [],
   "source": [
    "# prob_matrix.to_csv('lodes_combinations.csv', index=False)\n",
    "prob_matrix.to_parquet('lodes_combinations.parquet', index=False)"
   ]
  }
 ],
 "metadata": {
  "kernelspec": {
   "display_name": "Python 3.7.9 64-bit",
   "language": "python",
   "name": "python3"
  },
  "language_info": {
   "codemirror_mode": {
    "name": "ipython",
    "version": 3
   },
   "file_extension": ".py",
   "mimetype": "text/x-python",
   "name": "python",
   "nbconvert_exporter": "python",
   "pygments_lexer": "ipython3",
   "version": "3.7.9"
  },
  "orig_nbformat": 4,
  "vscode": {
   "interpreter": {
    "hash": "c4d0005f5e14f7c00ac58c488a6489dbdddabe86817daaefe3a462e64eae13df"
   }
  }
 },
 "nbformat": 4,
 "nbformat_minor": 2
}

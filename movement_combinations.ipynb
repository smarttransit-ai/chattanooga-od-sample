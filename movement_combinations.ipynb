{
 "cells": [
  {
   "cell_type": "code",
   "execution_count": 7,
   "metadata": {},
   "outputs": [],
   "source": [
    "import pandas as pd\n",
    "import geopandas as gpd\n",
    "import numpy as np"
   ]
  },
  {
   "cell_type": "code",
   "execution_count": 9,
   "metadata": {},
   "outputs": [],
   "source": [
    "from shapely.geometry import Point\n",
    "def intpt_func(row):\n",
    "    return Point(row['INTPTLON'], row['INTPTLAT'])"
   ]
  },
  {
   "cell_type": "code",
   "execution_count": 41,
   "metadata": {},
   "outputs": [
    {
     "name": "stderr",
     "output_type": "stream",
     "text": [
      "c:\\Users\\senr1\\AppData\\Local\\Programs\\Python\\Python37\\lib\\site-packages\\pandas\\core\\dtypes\\cast.py:118: ShapelyDeprecationWarning: The array interface is deprecated and will no longer work in Shapely 2.0. Convert the '.coords' to a numpy array instead.\n",
      "  arr = construct_1d_object_array_from_listlike(values)\n"
     ]
    }
   ],
   "source": [
    "#loading LODES data\n",
    "\n",
    "ham_lodes = pd.read_csv('./data/hamilton_lodes_2019.csv', dtype={\"TRACTCE20_home\":\"string\", \"TRACTCE20_work\":\"string\"})\n",
    "ham_lodes.h_geocode = ham_lodes.h_geocode.apply(lambda x: int(x/1000))\n",
    "ham_lodes.w_geocode = ham_lodes.w_geocode.apply(lambda x: int(x/1000))\n",
    "ham_lodes.w_geocode = ham_lodes.w_geocode.astype(str)\n",
    "ham_lodes.h_geocode = ham_lodes.h_geocode.astype(str)\n",
    "\n",
    "#loading Hamilton county geodata\n",
    "ham_cbg = pd.read_csv('./data/ham_cbg.csv')\n",
    "ham_cbg['intpt'] = ham_cbg[['INTPTLAT', 'INTPTLON']].apply(lambda p: intpt_func(p), axis=1)\n",
    "ham_cbg = gpd.GeoDataFrame(ham_cbg, geometry=gpd.GeoSeries.from_wkt(ham_cbg.geometry))\n",
    "ham_cbg.GEOID = ham_cbg.GEOID.astype(str)"
   ]
  },
  {
   "cell_type": "code",
   "execution_count": 264,
   "metadata": {},
   "outputs": [],
   "source": [
    "#loading residential buildings\n",
    "res_build = pd.read_csv('./data/ham_residential_buildings2.csv', index_col=0)\n",
    "res_build = gpd.GeoDataFrame(res_build, geometry=gpd.GeoSeries.from_wkt(res_build.geometry))\n",
    "res_build['location'] = res_build.geometry.apply(lambda p: [p.y, p.x])\n",
    "\n",
    "#loading work buildings\n",
    "com_build = pd.read_csv('./data/work_loc_poi_com_civ.csv', index_col=0)\n",
    "com_build = gpd.GeoDataFrame(com_build, geometry=gpd.GeoSeries.from_wkt(com_build.geometry))\n",
    "com_build['location'] = com_build.geometry.apply(lambda p: [p.y, p.x])\n",
    "com_build = com_build.reset_index()\n",
    "com_build.GEOID = com_build.GEOID.astype(str)\n",
    "\n",
    "#loading all buildings (MS dataset)\n",
    "ms_build = pd.read_csv('./data/ham_buildings_MS.csv')\n",
    "ms_build = gpd.GeoDataFrame(ms_build, geometry=gpd.GeoSeries.from_wkt(ms_build.geo_centers))\n",
    "ms_build.GEOID = ms_build.GEOID.astype(str)\n",
    "ms_build['location'] = ms_build.geometry.apply(lambda p: [p.y, p.x])"
   ]
  },
  {
   "cell_type": "code",
   "execution_count": 160,
   "metadata": {},
   "outputs": [],
   "source": [
    "ham_lodes = ham_lodes.groupby(['h_geocode', 'w_geocode']).agg(total_jobs=('total_jobs', sum)).reset_index().merge(ham_cbg[['GEOID', 'geometry']], left_on='h_geocode', right_on='GEOID').rename({'geometry':'home_geom'}, axis=1).drop('GEOID', axis=1).merge(ham_cbg[['GEOID', 'geometry']], left_on='w_geocode', right_on='GEOID').rename({'geometry':'work_geom'}, axis=1).drop('GEOID', axis=1).sort_values('total_jobs', ascending=False).reset_index(drop=True)\n",
    "ham_lodes = gpd.GeoDataFrame(ham_lodes)"
   ]
  },
  {
   "cell_type": "code",
   "execution_count": 161,
   "metadata": {},
   "outputs": [
    {
     "data": {
      "text/html": [
       "<div>\n",
       "<style scoped>\n",
       "    .dataframe tbody tr th:only-of-type {\n",
       "        vertical-align: middle;\n",
       "    }\n",
       "\n",
       "    .dataframe tbody tr th {\n",
       "        vertical-align: top;\n",
       "    }\n",
       "\n",
       "    .dataframe thead th {\n",
       "        text-align: right;\n",
       "    }\n",
       "</style>\n",
       "<table border=\"1\" class=\"dataframe\">\n",
       "  <thead>\n",
       "    <tr style=\"text-align: right;\">\n",
       "      <th></th>\n",
       "      <th>h_geocode</th>\n",
       "      <th>w_geocode</th>\n",
       "      <th>total_jobs</th>\n",
       "      <th>geometry</th>\n",
       "    </tr>\n",
       "  </thead>\n",
       "  <tbody>\n",
       "    <tr>\n",
       "      <th>0</th>\n",
       "      <td>470650113214</td>\n",
       "      <td>470650004001</td>\n",
       "      <td>133</td>\n",
       "      <td>POLYGON ((-85.27190 35.04104, -85.27182 35.041...</td>\n",
       "    </tr>\n",
       "    <tr>\n",
       "      <th>1</th>\n",
       "      <td>470650004001</td>\n",
       "      <td>470650004001</td>\n",
       "      <td>100</td>\n",
       "      <td>POLYGON ((-85.27190 35.04104, -85.27182 35.041...</td>\n",
       "    </tr>\n",
       "    <tr>\n",
       "      <th>2</th>\n",
       "      <td>470650113231</td>\n",
       "      <td>470650004001</td>\n",
       "      <td>90</td>\n",
       "      <td>POLYGON ((-85.27190 35.04104, -85.27182 35.041...</td>\n",
       "    </tr>\n",
       "    <tr>\n",
       "      <th>3</th>\n",
       "      <td>470650113142</td>\n",
       "      <td>470650004001</td>\n",
       "      <td>84</td>\n",
       "      <td>POLYGON ((-85.27190 35.04104, -85.27182 35.041...</td>\n",
       "    </tr>\n",
       "    <tr>\n",
       "      <th>4</th>\n",
       "      <td>470650104353</td>\n",
       "      <td>470650004001</td>\n",
       "      <td>82</td>\n",
       "      <td>POLYGON ((-85.27190 35.04104, -85.27182 35.041...</td>\n",
       "    </tr>\n",
       "  </tbody>\n",
       "</table>\n",
       "</div>"
      ],
      "text/plain": [
       "      h_geocode     w_geocode  total_jobs  \\\n",
       "0  470650113214  470650004001         133   \n",
       "1  470650004001  470650004001         100   \n",
       "2  470650113231  470650004001          90   \n",
       "3  470650113142  470650004001          84   \n",
       "4  470650104353  470650004001          82   \n",
       "\n",
       "                                            geometry  \n",
       "0  POLYGON ((-85.27190 35.04104, -85.27182 35.041...  \n",
       "1  POLYGON ((-85.27190 35.04104, -85.27182 35.041...  \n",
       "2  POLYGON ((-85.27190 35.04104, -85.27182 35.041...  \n",
       "3  POLYGON ((-85.27190 35.04104, -85.27182 35.041...  \n",
       "4  POLYGON ((-85.27190 35.04104, -85.27182 35.041...  "
      ]
     },
     "execution_count": 161,
     "metadata": {},
     "output_type": "execute_result"
    }
   ],
   "source": [
    "ham_lodes_homes = ham_lodes.drop('work_geom', axis=1).rename({'home_geom':'geometry'}, axis=1)\n",
    "ham_lodes_work = ham_lodes.drop('home_geom', axis=1).rename({'work_geom':'geometry'}, axis=1)\n",
    "ham_lodes_work.head()"
   ]
  },
  {
   "cell_type": "code",
   "execution_count": 63,
   "metadata": {},
   "outputs": [],
   "source": [
    "res_build_cbg = res_build[['osmid', 'geometry']].sjoin(ham_lodes_homes)\n",
    "com_build_cbg = com_build[['GEOID', 'geometry']].sjoin(ham_lodes_work)"
   ]
  },
  {
   "cell_type": "code",
   "execution_count": 72,
   "metadata": {},
   "outputs": [],
   "source": [
    "def datetime_range(start, end, delta):\n",
    "    current = start\n",
    "    while current < end:\n",
    "        yield current\n",
    "        current += delta"
   ]
  },
  {
   "cell_type": "code",
   "execution_count": 174,
   "metadata": {},
   "outputs": [],
   "source": [
    "#generating array of start and return times (in 15 min intervals)\n",
    "from datetime  import datetime, timedelta\n",
    "times_morning = [dt.strftime('%H:%M')+'am' for dt in \n",
    "       datetime_range(datetime(2016, 9, 1, 7), datetime(2016, 9, 1, 9, 10), \n",
    "       timedelta(minutes=15))]\n",
    "times_evening = [dt.strftime('%H:%M')+'pm' for dt in \n",
    "       datetime_range(datetime(2016, 9, 1, 4), datetime(2016, 9, 1, 6, 6), \n",
    "       timedelta(minutes=15))]"
   ]
  },
  {
   "cell_type": "code",
   "execution_count": 96,
   "metadata": {},
   "outputs": [],
   "source": [
    "res_build.GEOID = res_build.GEOID.astype(str)\n",
    "com_build.GEOID = com_build.GEOID.astype(str)"
   ]
  },
  {
   "cell_type": "code",
   "execution_count": 266,
   "metadata": {},
   "outputs": [
    {
     "data": {
      "application/vnd.jupyter.widget-view+json": {
       "model_id": "a2c9780d6db242f1aa574dcf75900baf",
       "version_major": 2,
       "version_minor": 0
      },
      "text/plain": [
       "  0%|          | 0/14282 [00:00<?, ?it/s]"
      ]
     },
     "metadata": {},
     "output_type": "display_data"
    }
   ],
   "source": [
    "import random\n",
    "import tqdm\n",
    "from tqdm.notebook import tqdm_notebook\n",
    "\n",
    "prob_matrix = gpd.GeoDataFrame()\n",
    "for idx, movement in tqdm_notebook(ham_lodes.iterrows(), total=ham_lodes.shape[0]):\n",
    "\n",
    "    res = res_build[res_build.GEOID == movement.h_geocode].reset_index(drop=True)\n",
    "    if res.empty:\n",
    "        res = ms_build[ms_build.GEOID == movement.h_geocode].sample(n=movement.total_jobs, random_state=42).reset_index(drop=True)\n",
    "\n",
    "    com = com_build[com_build.GEOID == movement.w_geocode].reset_index(drop=True)\n",
    "    if com.empty:\n",
    "        com = ms_build[ms_build.GEOID == movement.w_geocode].sample(n=movement.total_jobs, random_state=42).reset_index(drop=True)\n",
    "        \n",
    "    r = res\n",
    "    c = com\n",
    "   \n",
    "    for job in range(movement.total_jobs):\n",
    "     \n",
    "        if c.empty:\n",
    "            c = com\n",
    "        elif r.empty:\n",
    "            r = res\n",
    "\n",
    "        rand_r = random.randrange(r.shape[0])\n",
    "        rand_c = random.randrange(c.shape[0])\n",
    "        r_df = r.iloc[rand_r]\n",
    "        c_df = c.iloc[rand_c]\n",
    "        r = r.drop([rand_r]).reset_index(drop=True)\n",
    "        c = c.drop([rand_c]).reset_index(drop=True)\n",
    "\n",
    "        time_slot1 = np.random.choice(times_morning, size=1, replace=True)\n",
    "        time_slot2 = np.random.choice(times_evening, size=1, replace=True)\n",
    "\n",
    "        temp = gpd.GeoDataFrame()\n",
    "\n",
    "        temp.loc[job, 'h_geocode'] = movement.h_geocode\n",
    "        temp.loc[job, 'w_geocode'] = movement.w_geocode\n",
    "        temp.loc[job, 'total_jobs'] = movement.total_jobs\n",
    "        temp.loc[job, 'home_loc_lat'] = r_df.location[0]\n",
    "        temp.loc[job, 'home_loc_lon'] = r_df.location[1]\n",
    "        temp.loc[job, 'work_loc_lat'] = c_df.location[0]\n",
    "        temp.loc[job, 'work_loc_lon'] = c_df.location[1]\n",
    "        temp.loc[job, 'go_time'] = time_slot1[0]\n",
    "        temp.loc[job, 'return_time'] = time_slot2[0]\n",
    "\n",
    "        prob_matrix = prob_matrix.append(temp, ignore_index=True)"
   ]
  },
  {
   "cell_type": "code",
   "execution_count": null,
   "metadata": {},
   "outputs": [],
   "source": [
    "def func_home_pt(row):\n",
    "    return Point(row.home_loc_lon, row.home_loc_lat)\n",
    "def func_work_pt(row):\n",
    "    return Point(row.work_loc_lon, row.work_loc_lat)"
   ]
  },
  {
   "cell_type": "code",
   "execution_count": null,
   "metadata": {},
   "outputs": [
    {
     "name": "stderr",
     "output_type": "stream",
     "text": [
      "c:\\Users\\senr1\\AppData\\Local\\Programs\\Python\\Python37\\lib\\site-packages\\pandas\\core\\dtypes\\cast.py:118: ShapelyDeprecationWarning: The array interface is deprecated and will no longer work in Shapely 2.0. Convert the '.coords' to a numpy array instead.\n",
      "  arr = construct_1d_object_array_from_listlike(values)\n",
      "c:\\Users\\senr1\\AppData\\Local\\Programs\\Python\\Python37\\lib\\site-packages\\pandas\\core\\dtypes\\cast.py:118: ShapelyDeprecationWarning: The array interface is deprecated and will no longer work in Shapely 2.0. Convert the '.coords' to a numpy array instead.\n",
      "  arr = construct_1d_object_array_from_listlike(values)\n"
     ]
    }
   ],
   "source": [
    "prob_matrix['home_geom'] = prob_matrix[['home_loc_lat', 'home_loc_lon']].apply(lambda row: func_home_pt(row), axis=1)\n",
    "prob_matrix['work_geom'] = prob_matrix[['work_loc_lat', 'work_loc_lon']].apply(lambda row: func_work_pt(row), axis=1)"
   ]
  },
  {
   "cell_type": "code",
   "execution_count": null,
   "metadata": {},
   "outputs": [
    {
     "data": {
      "text/html": [
       "<div>\n",
       "<style scoped>\n",
       "    .dataframe tbody tr th:only-of-type {\n",
       "        vertical-align: middle;\n",
       "    }\n",
       "\n",
       "    .dataframe tbody tr th {\n",
       "        vertical-align: top;\n",
       "    }\n",
       "\n",
       "    .dataframe thead th {\n",
       "        text-align: right;\n",
       "    }\n",
       "</style>\n",
       "<table border=\"1\" class=\"dataframe\">\n",
       "  <thead>\n",
       "    <tr style=\"text-align: right;\">\n",
       "      <th></th>\n",
       "      <th>h_geocode</th>\n",
       "      <th>w_geocode</th>\n",
       "      <th>total_jobs</th>\n",
       "      <th>home_loc_lat</th>\n",
       "      <th>home_loc_lon</th>\n",
       "      <th>work_loc_lat</th>\n",
       "      <th>work_loc_lon</th>\n",
       "      <th>go_time</th>\n",
       "      <th>return_time</th>\n",
       "      <th>home_geom</th>\n",
       "      <th>work_geom</th>\n",
       "    </tr>\n",
       "  </thead>\n",
       "  <tbody>\n",
       "    <tr>\n",
       "      <th>0</th>\n",
       "      <td>470650113214</td>\n",
       "      <td>470650004001</td>\n",
       "      <td>133.0</td>\n",
       "      <td>35.024889</td>\n",
       "      <td>-85.150876</td>\n",
       "      <td>35.049340</td>\n",
       "      <td>-85.290205</td>\n",
       "      <td>08:45am</td>\n",
       "      <td>05:15pm</td>\n",
       "      <td>POINT (-85.1508765 35.024889)</td>\n",
       "      <td>POINT (-85.290205 35.04934)</td>\n",
       "    </tr>\n",
       "    <tr>\n",
       "      <th>1</th>\n",
       "      <td>470650113214</td>\n",
       "      <td>470650004001</td>\n",
       "      <td>133.0</td>\n",
       "      <td>35.028877</td>\n",
       "      <td>-85.143452</td>\n",
       "      <td>35.044792</td>\n",
       "      <td>-85.280033</td>\n",
       "      <td>07:00am</td>\n",
       "      <td>04:30pm</td>\n",
       "      <td>POINT (-85.14345240760954 35.02887652060261)</td>\n",
       "      <td>POINT (-85.280033 35.044792)</td>\n",
       "    </tr>\n",
       "    <tr>\n",
       "      <th>2</th>\n",
       "      <td>470650113214</td>\n",
       "      <td>470650004001</td>\n",
       "      <td>133.0</td>\n",
       "      <td>35.028299</td>\n",
       "      <td>-85.156204</td>\n",
       "      <td>35.048659</td>\n",
       "      <td>-85.289930</td>\n",
       "      <td>07:45am</td>\n",
       "      <td>05:00pm</td>\n",
       "      <td>POINT (-85.1562035 35.028298500000005)</td>\n",
       "      <td>POINT (-85.28993 35.048659)</td>\n",
       "    </tr>\n",
       "    <tr>\n",
       "      <th>3</th>\n",
       "      <td>470650113214</td>\n",
       "      <td>470650004001</td>\n",
       "      <td>133.0</td>\n",
       "      <td>35.030310</td>\n",
       "      <td>-85.142181</td>\n",
       "      <td>35.048659</td>\n",
       "      <td>-85.289930</td>\n",
       "      <td>07:30am</td>\n",
       "      <td>04:15pm</td>\n",
       "      <td>POINT (-85.1421810823235 35.03030972249326)</td>\n",
       "      <td>POINT (-85.28993 35.048659)</td>\n",
       "    </tr>\n",
       "    <tr>\n",
       "      <th>4</th>\n",
       "      <td>470650113214</td>\n",
       "      <td>470650004001</td>\n",
       "      <td>133.0</td>\n",
       "      <td>35.032467</td>\n",
       "      <td>-85.142892</td>\n",
       "      <td>35.048659</td>\n",
       "      <td>-85.289930</td>\n",
       "      <td>07:15am</td>\n",
       "      <td>05:45pm</td>\n",
       "      <td>POINT (-85.1428915 35.032467)</td>\n",
       "      <td>POINT (-85.28993 35.048659)</td>\n",
       "    </tr>\n",
       "  </tbody>\n",
       "</table>\n",
       "</div>"
      ],
      "text/plain": [
       "      h_geocode     w_geocode  total_jobs  home_loc_lat  home_loc_lon  \\\n",
       "0  470650113214  470650004001       133.0     35.024889    -85.150876   \n",
       "1  470650113214  470650004001       133.0     35.028877    -85.143452   \n",
       "2  470650113214  470650004001       133.0     35.028299    -85.156204   \n",
       "3  470650113214  470650004001       133.0     35.030310    -85.142181   \n",
       "4  470650113214  470650004001       133.0     35.032467    -85.142892   \n",
       "\n",
       "   work_loc_lat  work_loc_lon  go_time return_time  \\\n",
       "0     35.049340    -85.290205  08:45am     05:15pm   \n",
       "1     35.044792    -85.280033  07:00am     04:30pm   \n",
       "2     35.048659    -85.289930  07:45am     05:00pm   \n",
       "3     35.048659    -85.289930  07:30am     04:15pm   \n",
       "4     35.048659    -85.289930  07:15am     05:45pm   \n",
       "\n",
       "                                      home_geom                     work_geom  \n",
       "0                 POINT (-85.1508765 35.024889)   POINT (-85.290205 35.04934)  \n",
       "1  POINT (-85.14345240760954 35.02887652060261)  POINT (-85.280033 35.044792)  \n",
       "2        POINT (-85.1562035 35.028298500000005)   POINT (-85.28993 35.048659)  \n",
       "3   POINT (-85.1421810823235 35.03030972249326)   POINT (-85.28993 35.048659)  \n",
       "4                 POINT (-85.1428915 35.032467)   POINT (-85.28993 35.048659)  "
      ]
     },
     "execution_count": 262,
     "metadata": {},
     "output_type": "execute_result"
    }
   ],
   "source": [
    "prob_matrix.head()"
   ]
  },
  {
   "cell_type": "markdown",
   "metadata": {},
   "source": [
    "## for Safegraph"
   ]
  },
  {
   "cell_type": "code",
   "execution_count": 282,
   "metadata": {},
   "outputs": [],
   "source": [
    "sg = gpd.read_file('../Downloads/ham_sg_jan_mar_21_reduced_cols.csv')\n"
   ]
  },
  {
   "cell_type": "code",
   "execution_count": 301,
   "metadata": {},
   "outputs": [],
   "source": [
    "import math\n",
    "sg.home_cbg = sg.home_cbg.apply(lambda x: str(math.floor(float(x))))\n",
    "sg.poi_cbg = sg.poi_cbg.apply(lambda x: str(math.floor(float(x))))\n",
    "sg.frequency = sg.frequency.apply(lambda x: (math.floor(float(x))))\n",
    "sg.visits_monday = sg.visits_monday.astype(float) \n",
    "sg.visits_tuesday = sg.visits_tuesday.astype(float) \n",
    "sg.visits_wednesday = sg.visits_wednesday.astype(float) \n",
    "sg.visits_thursday = sg.visits_thursday.astype(float) \n",
    "sg.visits_friday = sg.visits_friday.astype(float) \n",
    "sg.visits_saturday = sg.visits_saturday.astype(float) \n",
    "sg.visits_sunday = sg.visits_sunday.astype(float) "
   ]
  },
  {
   "cell_type": "code",
   "execution_count": 293,
   "metadata": {},
   "outputs": [
    {
     "data": {
      "text/plain": [
       "numpy.int64"
      ]
     },
     "execution_count": 293,
     "metadata": {},
     "output_type": "execute_result"
    }
   ],
   "source": [
    "type(sg.iloc[0].frequency)"
   ]
  },
  {
   "cell_type": "code",
   "execution_count": 303,
   "metadata": {},
   "outputs": [
    {
     "data": {
      "text/plain": [
       "9468382.0"
      ]
     },
     "execution_count": 303,
     "metadata": {},
     "output_type": "execute_result"
    }
   ],
   "source": [
    "sg.visits_monday.sum()"
   ]
  },
  {
   "cell_type": "code",
   "execution_count": 305,
   "metadata": {},
   "outputs": [],
   "source": [
    "sg = sg.groupby(['home_cbg', 'poi_cbg']).agg(frequency=('frequency', sum), visits_monday=('visits_monday', sum), visits_tuesday=('visits_tuesday', sum), visits_wednesday=('visits_wednesday', sum), visits_thursday=('visits_thursday', sum), visits_friday=('visits_friday', sum), visits_saturday=('visits_saturday', sum), visits_sunday=('visits_sunday', sum) ).reset_index()"
   ]
  },
  {
   "cell_type": "code",
   "execution_count": 306,
   "metadata": {},
   "outputs": [
    {
     "data": {
      "text/html": [
       "<div>\n",
       "<style scoped>\n",
       "    .dataframe tbody tr th:only-of-type {\n",
       "        vertical-align: middle;\n",
       "    }\n",
       "\n",
       "    .dataframe tbody tr th {\n",
       "        vertical-align: top;\n",
       "    }\n",
       "\n",
       "    .dataframe thead th {\n",
       "        text-align: right;\n",
       "    }\n",
       "</style>\n",
       "<table border=\"1\" class=\"dataframe\">\n",
       "  <thead>\n",
       "    <tr style=\"text-align: right;\">\n",
       "      <th></th>\n",
       "      <th>home_cbg</th>\n",
       "      <th>poi_cbg</th>\n",
       "      <th>frequency</th>\n",
       "      <th>visits_monday</th>\n",
       "      <th>visits_tuesday</th>\n",
       "      <th>visits_wednesday</th>\n",
       "      <th>visits_thursday</th>\n",
       "      <th>visits_friday</th>\n",
       "      <th>visits_saturday</th>\n",
       "      <th>visits_sunday</th>\n",
       "    </tr>\n",
       "  </thead>\n",
       "  <tbody>\n",
       "    <tr>\n",
       "      <th>0</th>\n",
       "      <td>470650004001</td>\n",
       "      <td>470650004001</td>\n",
       "      <td>601</td>\n",
       "      <td>9152.0</td>\n",
       "      <td>10525.0</td>\n",
       "      <td>10742.0</td>\n",
       "      <td>10662.0</td>\n",
       "      <td>9263.0</td>\n",
       "      <td>3826.0</td>\n",
       "      <td>3736.0</td>\n",
       "    </tr>\n",
       "    <tr>\n",
       "      <th>1</th>\n",
       "      <td>470650004001</td>\n",
       "      <td>470650004002</td>\n",
       "      <td>12</td>\n",
       "      <td>27.0</td>\n",
       "      <td>32.0</td>\n",
       "      <td>36.0</td>\n",
       "      <td>18.0</td>\n",
       "      <td>23.0</td>\n",
       "      <td>12.0</td>\n",
       "      <td>10.0</td>\n",
       "    </tr>\n",
       "    <tr>\n",
       "      <th>2</th>\n",
       "      <td>470650004001</td>\n",
       "      <td>470650006001</td>\n",
       "      <td>50</td>\n",
       "      <td>467.0</td>\n",
       "      <td>393.0</td>\n",
       "      <td>403.0</td>\n",
       "      <td>415.0</td>\n",
       "      <td>520.0</td>\n",
       "      <td>483.0</td>\n",
       "      <td>557.0</td>\n",
       "    </tr>\n",
       "    <tr>\n",
       "      <th>3</th>\n",
       "      <td>470650004001</td>\n",
       "      <td>470650006002</td>\n",
       "      <td>4</td>\n",
       "      <td>10.0</td>\n",
       "      <td>10.0</td>\n",
       "      <td>13.0</td>\n",
       "      <td>7.0</td>\n",
       "      <td>4.0</td>\n",
       "      <td>8.0</td>\n",
       "      <td>6.0</td>\n",
       "    </tr>\n",
       "    <tr>\n",
       "      <th>4</th>\n",
       "      <td>470650004001</td>\n",
       "      <td>470650006003</td>\n",
       "      <td>52</td>\n",
       "      <td>738.0</td>\n",
       "      <td>851.0</td>\n",
       "      <td>665.0</td>\n",
       "      <td>875.0</td>\n",
       "      <td>792.0</td>\n",
       "      <td>363.0</td>\n",
       "      <td>214.0</td>\n",
       "    </tr>\n",
       "  </tbody>\n",
       "</table>\n",
       "</div>"
      ],
      "text/plain": [
       "       home_cbg       poi_cbg  frequency  visits_monday  visits_tuesday  \\\n",
       "0  470650004001  470650004001        601         9152.0         10525.0   \n",
       "1  470650004001  470650004002         12           27.0            32.0   \n",
       "2  470650004001  470650006001         50          467.0           393.0   \n",
       "3  470650004001  470650006002          4           10.0            10.0   \n",
       "4  470650004001  470650006003         52          738.0           851.0   \n",
       "\n",
       "   visits_wednesday  visits_thursday  visits_friday  visits_saturday  \\\n",
       "0           10742.0          10662.0         9263.0           3826.0   \n",
       "1              36.0             18.0           23.0             12.0   \n",
       "2             403.0            415.0          520.0            483.0   \n",
       "3              13.0              7.0            4.0              8.0   \n",
       "4             665.0            875.0          792.0            363.0   \n",
       "\n",
       "   visits_sunday  \n",
       "0         3736.0  \n",
       "1           10.0  \n",
       "2          557.0  \n",
       "3            6.0  \n",
       "4          214.0  "
      ]
     },
     "execution_count": 306,
     "metadata": {},
     "output_type": "execute_result"
    }
   ],
   "source": [
    "pd.set_option('display.max_columns', None)\n",
    "sg.head()"
   ]
  },
  {
   "cell_type": "code",
   "execution_count": 310,
   "metadata": {},
   "outputs": [
    {
     "data": {
      "application/vnd.jupyter.widget-view+json": {
       "model_id": "a492ef3e5fc9467b8ad7a77e2891679e",
       "version_major": 2,
       "version_minor": 0
      },
      "text/plain": [
       "  0%|          | 0/16561 [00:00<?, ?it/s]"
      ]
     },
     "metadata": {},
     "output_type": "display_data"
    }
   ],
   "source": [
    "import random\n",
    "import tqdm\n",
    "from tqdm.notebook import tqdm_notebook\n",
    "\n",
    "prob_matrix_sg = gpd.GeoDataFrame()\n",
    "for idx, movement in tqdm_notebook(sg.iterrows(), total=sg.shape[0]):\n",
    "\n",
    "    res = res_build[res_build.GEOID == movement.home_cbg].reset_index(drop=True)\n",
    "    if res.empty:\n",
    "        res = ms_build[ms_build.GEOID == movement.home_cbg].sample(n=movement.frequency, random_state=42, replace=True).reset_index(drop=True)\n",
    "\n",
    "    com = com_build[com_build.GEOID == movement.poi_cbg].reset_index(drop=True)\n",
    "    if com.empty:\n",
    "        com = ms_build[ms_build.GEOID == movement.poi_cbg].sample(n=movement.frequency, random_state=42, replace=True).reset_index(drop=True)\n",
    "        \n",
    "    r = res\n",
    "    c = com\n",
    "    # print(r)\n",
    "    # print(movement.total_jobs)\n",
    "    for freq in range(movement.frequency):\n",
    "        \n",
    "        # for iter in range(iters):\n",
    "        if c.empty:\n",
    "            c = com\n",
    "        elif r.empty:\n",
    "            r = res\n",
    "        \n",
    "        # print(c)\n",
    "        # print(r.shape, c.shape)\n",
    "        rand_r = random.randrange(r.shape[0])\n",
    "        rand_c = random.randrange(c.shape[0])\n",
    "        r_df = r.iloc[rand_r]\n",
    "        c_df = c.iloc[rand_c]\n",
    "        r = r.drop([rand_r]).reset_index(drop=True)\n",
    "        c = c.drop([rand_c]).reset_index(drop=True)\n",
    "        # print(r)\n",
    "        # print(r_df)\n",
    "\n",
    "        time_slot1 = np.random.choice(times_morning, size=1, replace=True)\n",
    "        time_slot2 = np.random.choice(times_evening, size=1, replace=True)\n",
    "\n",
    "        temp = gpd.GeoDataFrame()\n",
    "\n",
    "        temp.loc[freq, 'home_cbg'] = movement.home_cbg\n",
    "        temp.loc[freq, 'poi_cbg'] = movement.poi_cbg\n",
    "        temp.loc[freq, 'frequency'] = movement.frequency\n",
    "        temp.loc[freq, 'home_loc_lat'] = r_df.location[0]\n",
    "        temp.loc[freq, 'home_loc_lon'] = r_df.location[1]\n",
    "        temp.loc[freq, 'work_loc_lat'] = c_df.location[0]\n",
    "        temp.loc[freq, 'work_loc_lon'] = c_df.location[1]\n",
    "        temp.loc[freq, 'go_time'] = time_slot1[0]\n",
    "        temp.loc[freq, 'return_time'] = time_slot2[0]\n",
    "\n",
    "        # temp.loc[job, 'home_geom'] = Point([r_df.location[1], r_df.location[0]])\n",
    "        prob_matrix_sg = prob_matrix_sg.append(temp, ignore_index=True)\n",
    "\n",
    "# prob_matrix"
   ]
  },
  {
   "cell_type": "code",
   "execution_count": null,
   "metadata": {},
   "outputs": [],
   "source": [
    "def func_home_pt(row):\n",
    "    return Point(row.home_loc_lon, row.home_loc_lat)\n",
    "def func_work_pt(row):\n",
    "    return Point(row.work_loc_lon, row.work_loc_lat)"
   ]
  },
  {
   "cell_type": "code",
   "execution_count": null,
   "metadata": {},
   "outputs": [
    {
     "name": "stderr",
     "output_type": "stream",
     "text": [
      "c:\\Users\\senr1\\AppData\\Local\\Programs\\Python\\Python37\\lib\\site-packages\\pandas\\core\\dtypes\\cast.py:118: ShapelyDeprecationWarning: The array interface is deprecated and will no longer work in Shapely 2.0. Convert the '.coords' to a numpy array instead.\n",
      "  arr = construct_1d_object_array_from_listlike(values)\n",
      "c:\\Users\\senr1\\AppData\\Local\\Programs\\Python\\Python37\\lib\\site-packages\\pandas\\core\\dtypes\\cast.py:118: ShapelyDeprecationWarning: The array interface is deprecated and will no longer work in Shapely 2.0. Convert the '.coords' to a numpy array instead.\n",
      "  arr = construct_1d_object_array_from_listlike(values)\n"
     ]
    }
   ],
   "source": [
    "prob_matrix_sg['home_geom'] = prob_matrix_sg[['home_loc_lat', 'home_loc_lon']].apply(lambda row: func_home_pt(row), axis=1)\n",
    "prob_matrix_sg['work_geom'] = prob_matrix_sg[['work_loc_lat', 'work_loc_lon']].apply(lambda row: func_work_pt(row), axis=1)"
   ]
  },
  {
   "cell_type": "code",
   "execution_count": null,
   "metadata": {},
   "outputs": [
    {
     "data": {
      "text/html": [
       "<div>\n",
       "<style scoped>\n",
       "    .dataframe tbody tr th:only-of-type {\n",
       "        vertical-align: middle;\n",
       "    }\n",
       "\n",
       "    .dataframe tbody tr th {\n",
       "        vertical-align: top;\n",
       "    }\n",
       "\n",
       "    .dataframe thead th {\n",
       "        text-align: right;\n",
       "    }\n",
       "</style>\n",
       "<table border=\"1\" class=\"dataframe\">\n",
       "  <thead>\n",
       "    <tr style=\"text-align: right;\">\n",
       "      <th></th>\n",
       "      <th>h_geocode</th>\n",
       "      <th>w_geocode</th>\n",
       "      <th>total_jobs</th>\n",
       "      <th>home_loc_lat</th>\n",
       "      <th>home_loc_lon</th>\n",
       "      <th>work_loc_lat</th>\n",
       "      <th>work_loc_lon</th>\n",
       "      <th>go_time</th>\n",
       "      <th>return_time</th>\n",
       "      <th>home_geom</th>\n",
       "      <th>work_geom</th>\n",
       "    </tr>\n",
       "  </thead>\n",
       "  <tbody>\n",
       "    <tr>\n",
       "      <th>0</th>\n",
       "      <td>470650113214</td>\n",
       "      <td>470650004001</td>\n",
       "      <td>133.0</td>\n",
       "      <td>35.024889</td>\n",
       "      <td>-85.150876</td>\n",
       "      <td>35.049340</td>\n",
       "      <td>-85.290205</td>\n",
       "      <td>08:45am</td>\n",
       "      <td>05:15pm</td>\n",
       "      <td>POINT (-85.1508765 35.024889)</td>\n",
       "      <td>POINT (-85.290205 35.04934)</td>\n",
       "    </tr>\n",
       "    <tr>\n",
       "      <th>1</th>\n",
       "      <td>470650113214</td>\n",
       "      <td>470650004001</td>\n",
       "      <td>133.0</td>\n",
       "      <td>35.028877</td>\n",
       "      <td>-85.143452</td>\n",
       "      <td>35.044792</td>\n",
       "      <td>-85.280033</td>\n",
       "      <td>07:00am</td>\n",
       "      <td>04:30pm</td>\n",
       "      <td>POINT (-85.14345240760954 35.02887652060261)</td>\n",
       "      <td>POINT (-85.280033 35.044792)</td>\n",
       "    </tr>\n",
       "    <tr>\n",
       "      <th>2</th>\n",
       "      <td>470650113214</td>\n",
       "      <td>470650004001</td>\n",
       "      <td>133.0</td>\n",
       "      <td>35.028299</td>\n",
       "      <td>-85.156204</td>\n",
       "      <td>35.048659</td>\n",
       "      <td>-85.289930</td>\n",
       "      <td>07:45am</td>\n",
       "      <td>05:00pm</td>\n",
       "      <td>POINT (-85.1562035 35.028298500000005)</td>\n",
       "      <td>POINT (-85.28993 35.048659)</td>\n",
       "    </tr>\n",
       "    <tr>\n",
       "      <th>3</th>\n",
       "      <td>470650113214</td>\n",
       "      <td>470650004001</td>\n",
       "      <td>133.0</td>\n",
       "      <td>35.030310</td>\n",
       "      <td>-85.142181</td>\n",
       "      <td>35.048659</td>\n",
       "      <td>-85.289930</td>\n",
       "      <td>07:30am</td>\n",
       "      <td>04:15pm</td>\n",
       "      <td>POINT (-85.1421810823235 35.03030972249326)</td>\n",
       "      <td>POINT (-85.28993 35.048659)</td>\n",
       "    </tr>\n",
       "    <tr>\n",
       "      <th>4</th>\n",
       "      <td>470650113214</td>\n",
       "      <td>470650004001</td>\n",
       "      <td>133.0</td>\n",
       "      <td>35.032467</td>\n",
       "      <td>-85.142892</td>\n",
       "      <td>35.048659</td>\n",
       "      <td>-85.289930</td>\n",
       "      <td>07:15am</td>\n",
       "      <td>05:45pm</td>\n",
       "      <td>POINT (-85.1428915 35.032467)</td>\n",
       "      <td>POINT (-85.28993 35.048659)</td>\n",
       "    </tr>\n",
       "  </tbody>\n",
       "</table>\n",
       "</div>"
      ],
      "text/plain": [
       "      h_geocode     w_geocode  total_jobs  home_loc_lat  home_loc_lon  \\\n",
       "0  470650113214  470650004001       133.0     35.024889    -85.150876   \n",
       "1  470650113214  470650004001       133.0     35.028877    -85.143452   \n",
       "2  470650113214  470650004001       133.0     35.028299    -85.156204   \n",
       "3  470650113214  470650004001       133.0     35.030310    -85.142181   \n",
       "4  470650113214  470650004001       133.0     35.032467    -85.142892   \n",
       "\n",
       "   work_loc_lat  work_loc_lon  go_time return_time  \\\n",
       "0     35.049340    -85.290205  08:45am     05:15pm   \n",
       "1     35.044792    -85.280033  07:00am     04:30pm   \n",
       "2     35.048659    -85.289930  07:45am     05:00pm   \n",
       "3     35.048659    -85.289930  07:30am     04:15pm   \n",
       "4     35.048659    -85.289930  07:15am     05:45pm   \n",
       "\n",
       "                                      home_geom                     work_geom  \n",
       "0                 POINT (-85.1508765 35.024889)   POINT (-85.290205 35.04934)  \n",
       "1  POINT (-85.14345240760954 35.02887652060261)  POINT (-85.280033 35.044792)  \n",
       "2        POINT (-85.1562035 35.028298500000005)   POINT (-85.28993 35.048659)  \n",
       "3   POINT (-85.1421810823235 35.03030972249326)   POINT (-85.28993 35.048659)  \n",
       "4                 POINT (-85.1428915 35.032467)   POINT (-85.28993 35.048659)  "
      ]
     },
     "metadata": {},
     "output_type": "display_data"
    }
   ],
   "source": [
    "prob_matrix_sg.head()"
   ]
  }
 ],
 "metadata": {
  "kernelspec": {
   "display_name": "Python 3.7.9 64-bit",
   "language": "python",
   "name": "python3"
  },
  "language_info": {
   "codemirror_mode": {
    "name": "ipython",
    "version": 3
   },
   "file_extension": ".py",
   "mimetype": "text/x-python",
   "name": "python",
   "nbconvert_exporter": "python",
   "pygments_lexer": "ipython3",
   "version": "3.7.9"
  },
  "orig_nbformat": 4,
  "vscode": {
   "interpreter": {
    "hash": "c4d0005f5e14f7c00ac58c488a6489dbdddabe86817daaefe3a462e64eae13df"
   }
  }
 },
 "nbformat": 4,
 "nbformat_minor": 2
}
